{
 "cells": [
  {
   "cell_type": "code",
   "metadata": {
    "ExecuteTime": {
     "end_time": "2025-04-25T09:06:06.707661Z",
     "start_time": "2025-04-25T09:06:06.655291Z"
    }
   },
   "source": [
    "import pandas as pd\n",
    "import numpy as np\n",
    "from sklearn.model_selection import train_test_split, GridSearchCV, RandomizedSearchCV, cross_val_score\n",
    "from sklearn.preprocessing import LabelEncoder, StandardScaler\n",
    "from sklearn.neighbors import KNeighborsRegressor\n",
    "from sklearn.metrics import mean_squared_error, mean_absolute_error, r2_score\n",
    "from sklearn.inspection import permutation_importance\n",
    "import matplotlib.pyplot as plt\n",
    "\n",
    "# Загрузка данных\n",
    "data1 = pd.read_csv('House_Rent_Dataset.csv')\n",
    "\n",
    "# Очистка данных от null значений\n",
    "data_cleaned = data1.dropna()\n",
    "\n",
    "# Кодирование категориальных признаков\n",
    "label_encoders = {}\n",
    "categorical_columns = ['Posted On', 'Floor', 'Area Type', 'Area Locality', 'City', 'Furnishing Status', 'Tenant Preferred', 'Point of Contact']\n",
    "\n",
    "for column in categorical_columns:\n",
    "    label_encoders[column] = LabelEncoder()\n",
    "    data_cleaned[column] = label_encoders[column].fit_transform(data_cleaned[column])\n",
    "\n",
    "X = data_cleaned.drop('Rent', axis=1)\n",
    "y = data_cleaned['Rent']\n",
    "\n",
    "selected_features = ['Size', 'City', 'Bathroom', 'Point of Contact', 'BHK']\n",
    "X = X[selected_features]\n",
    "\n",
    "data_combined = pd.concat([X, y], axis=1)\n",
    "\n",
    "# Удаление выбросов с использованием метода межквартильного размаха (IQR)\n",
    "Q1 = data_combined.quantile(0.25)\n",
    "Q3 = data_combined.quantile(0.75)\n",
    "IQR = Q3 - Q1\n",
    "\n",
    "data_filtered = data_combined[~((data_combined < (Q1 - 1.5 * IQR)) | (data_combined > (Q3 + 1.5 * IQR))).any(axis=1)]\n",
    "\n",
    "# Разделение данных на признаки и целевую переменную после удаления выбросов\n",
    "X_filtered = data_filtered[selected_features]\n",
    "y_filtered = data_filtered['Rent']\n",
    "\n",
    "# Разделение данных на обучающую и тестовую выборки\n",
    "X_train, X_test, y_train, y_test = train_test_split(X_filtered, y_filtered, test_size=0.2, random_state=42)\n"
   ],
   "outputs": [],
   "execution_count": 4
  },
  {
   "cell_type": "code",
   "metadata": {
    "ExecuteTime": {
     "end_time": "2025-04-25T09:06:09.186640Z",
     "start_time": "2025-04-25T09:06:09.174119Z"
    }
   },
   "source": [
    "\n",
    "# Масштабирование данных\n",
    "scaler = StandardScaler()\n",
    "X_train_scaled = scaler.fit_transform(X_train)\n",
    "X_test_scaled = scaler.transform(X_test)\n"
   ],
   "outputs": [],
   "execution_count": 5
  },
  {
   "metadata": {
    "ExecuteTime": {
     "end_time": "2025-04-25T09:06:13.765543Z",
     "start_time": "2025-04-25T09:06:10.612192Z"
    }
   },
   "cell_type": "code",
   "source": [
    "from sklearn.ensemble import StackingRegressor\n",
    "from sklearn.linear_model import LinearRegression\n",
    "from sklearn.tree import DecisionTreeRegressor\n",
    "from sklearn.ensemble import RandomForestRegressor\n",
    "\n",
    "# Базовые модели\n",
    "base_models = [\n",
    "    ('dt', DecisionTreeRegressor(random_state=42)),\n",
    "    ('rf', RandomForestRegressor(random_state=42))\n",
    "]\n",
    "\n",
    "# Мета-модель\n",
    "meta_model = LinearRegression()\n",
    "\n",
    "# Стекинг\n",
    "stacking_model = StackingRegressor(estimators=base_models, final_estimator=meta_model)\n",
    "\n",
    "# Обучение\n",
    "stacking_model.fit(X_train_scaled, y_train)\n",
    "\n",
    "# Предсказание\n",
    "y_pred_stacking = stacking_model.predict(X_test_scaled)\n",
    "\n",
    "# Оценка\n",
    "r2_stacking = r2_score(y_test, y_pred_stacking)\n",
    "print(f\"Stacking R2 Score: {r2_stacking:.4f}\")"
   ],
   "outputs": [
    {
     "name": "stdout",
     "output_type": "stream",
     "text": [
      "Stacking R2 Score: 0.6489\n"
     ]
    }
   ],
   "execution_count": 6
  },
  {
   "metadata": {
    "ExecuteTime": {
     "end_time": "2025-04-25T09:06:37.149049Z",
     "start_time": "2025-04-25T09:06:26.389417Z"
    }
   },
   "cell_type": "code",
   "source": [
    "from sklearn.neural_network import MLPRegressor\n",
    "\n",
    "# Создание модели\n",
    "mlp_model = MLPRegressor(hidden_layer_sizes=(100, 50), activation='relu', solver='adam', random_state=42, max_iter=500)\n",
    "\n",
    "# Обучение\n",
    "mlp_model.fit(X_train_scaled, y_train)\n",
    "\n",
    "# Предсказание\n",
    "y_pred_mlp = mlp_model.predict(X_test_scaled)\n",
    "\n",
    "# Оценка\n",
    "r2_mlp = r2_score(y_test, y_pred_mlp)\n",
    "print(f\"MLP R2 Score: {r2_mlp:.4f}\")"
   ],
   "outputs": [
    {
     "name": "stdout",
     "output_type": "stream",
     "text": [
      "MLP R2 Score: 0.6366\n"
     ]
    },
    {
     "name": "stderr",
     "output_type": "stream",
     "text": [
      "C:\\Users\\karamel\\AppData\\Local\\Programs\\Python\\Python312\\Lib\\site-packages\\sklearn\\neural_network\\_multilayer_perceptron.py:691: ConvergenceWarning: Stochastic Optimizer: Maximum iterations (500) reached and the optimization hasn't converged yet.\n",
      "  warnings.warn(\n"
     ]
    }
   ],
   "execution_count": 7
  },
  {
   "metadata": {
    "ExecuteTime": {
     "end_time": "2025-04-25T09:08:20.988836Z",
     "start_time": "2025-04-25T09:08:19.461261Z"
    }
   },
   "cell_type": "code",
   "source": [
    "from sklearn.neural_network import MLPRegressor\n",
    "from sklearn.metrics import r2_score\n",
    "from sklearn.preprocessing import StandardScaler\n",
    "\n",
    "# Масштабирование целевой переменной (опционально, если Rent имеет большой разброс)\n",
    "scaler_y = StandardScaler()\n",
    "y_train_scaled = scaler_y.fit_transform(y_train.values.reshape(-1, 1)).flatten()\n",
    "y_test_scaled = scaler_y.transform(y_test.values.reshape(-1, 1)).flatten()\n",
    "\n",
    "# Создание модели с увеличенным max_iter и ранней остановкой\n",
    "mlp_model = MLPRegressor(\n",
    "    hidden_layer_sizes=(100, 50),  # Архитектура сети\n",
    "    activation='relu',             # Функция активации\n",
    "    solver='adam',                 # Оптимизатор\n",
    "    alpha=0.0001,                  # Параметр регуляризации L2\n",
    "    batch_size='auto',             # Размер батча\n",
    "    learning_rate='adaptive',      # Адаптивный learning rate\n",
    "    learning_rate_init=0.001,      # Начальный learning rate\n",
    "    max_iter=1000,                 # Увеличиваем количество итераций\n",
    "    early_stopping=True,           # Ранняя остановка при отсутствии улучшений\n",
    "    validation_fraction=0.2,       # Доля данных для валидации\n",
    "    random_state=42,\n",
    "    verbose=True                   # Вывод лога обучения\n",
    ")\n",
    "\n",
    "# Обучение модели\n",
    "mlp_model.fit(X_train_scaled, y_train_scaled)\n",
    "\n",
    "# Предсказание и обратное масштабирование (если масштабировали y)\n",
    "y_pred_mlp_scaled = mlp_model.predict(X_test_scaled)\n",
    "y_pred_mlp = scaler_y.inverse_transform(y_pred_mlp_scaled.reshape(-1, 1)).flatten()\n",
    "\n",
    "# Оценка качества\n",
    "r2_mlp = r2_score(y_test, y_pred_mlp)\n",
    "print(f\"MLP R2 Score: {r2_mlp:.4f}\")"
   ],
   "outputs": [
    {
     "name": "stdout",
     "output_type": "stream",
     "text": [
      "Iteration 1, loss = 0.31720590\n",
      "Validation score: 0.483854\n",
      "Iteration 2, loss = 0.22146763\n",
      "Validation score: 0.567049\n",
      "Iteration 3, loss = 0.19830926\n",
      "Validation score: 0.589783\n",
      "Iteration 4, loss = 0.18758486\n",
      "Validation score: 0.602835\n",
      "Iteration 5, loss = 0.18136941\n",
      "Validation score: 0.616006\n",
      "Iteration 6, loss = 0.17661201\n",
      "Validation score: 0.624742\n",
      "Iteration 7, loss = 0.17431196\n",
      "Validation score: 0.628507\n",
      "Iteration 8, loss = 0.17012739\n",
      "Validation score: 0.632586\n",
      "Iteration 9, loss = 0.16658011\n",
      "Validation score: 0.641327\n",
      "Iteration 10, loss = 0.16471641\n",
      "Validation score: 0.637754\n",
      "Iteration 11, loss = 0.16296780\n",
      "Validation score: 0.646139\n",
      "Iteration 12, loss = 0.16083580\n",
      "Validation score: 0.640455\n",
      "Iteration 13, loss = 0.15903614\n",
      "Validation score: 0.654517\n",
      "Iteration 14, loss = 0.15626306\n",
      "Validation score: 0.651591\n",
      "Iteration 15, loss = 0.15453320\n",
      "Validation score: 0.657874\n",
      "Iteration 16, loss = 0.15183813\n",
      "Validation score: 0.655678\n",
      "Iteration 17, loss = 0.14970426\n",
      "Validation score: 0.659969\n",
      "Iteration 18, loss = 0.14924936\n",
      "Validation score: 0.658995\n",
      "Iteration 19, loss = 0.14882293\n",
      "Validation score: 0.661020\n",
      "Iteration 20, loss = 0.14453968\n",
      "Validation score: 0.663037\n",
      "Iteration 21, loss = 0.14350657\n",
      "Validation score: 0.665754\n",
      "Iteration 22, loss = 0.14392348\n",
      "Validation score: 0.663940\n",
      "Iteration 23, loss = 0.14176770\n",
      "Validation score: 0.666677\n",
      "Iteration 24, loss = 0.14033088\n",
      "Validation score: 0.667238\n",
      "Iteration 25, loss = 0.13940818\n",
      "Validation score: 0.664114\n",
      "Iteration 26, loss = 0.13841024\n",
      "Validation score: 0.675121\n",
      "Iteration 27, loss = 0.13942725\n",
      "Validation score: 0.670789\n",
      "Iteration 28, loss = 0.13775625\n",
      "Validation score: 0.655907\n",
      "Iteration 29, loss = 0.13747726\n",
      "Validation score: 0.673603\n",
      "Iteration 30, loss = 0.13513624\n",
      "Validation score: 0.669401\n",
      "Iteration 31, loss = 0.13389505\n",
      "Validation score: 0.676318\n",
      "Iteration 32, loss = 0.13399333\n",
      "Validation score: 0.659397\n",
      "Iteration 33, loss = 0.13617895\n",
      "Validation score: 0.675169\n",
      "Iteration 34, loss = 0.13574970\n",
      "Validation score: 0.657035\n",
      "Iteration 35, loss = 0.13336501\n",
      "Validation score: 0.670252\n",
      "Iteration 36, loss = 0.13270007\n",
      "Validation score: 0.672205\n",
      "Iteration 37, loss = 0.13108647\n",
      "Validation score: 0.677255\n",
      "Iteration 38, loss = 0.13024973\n",
      "Validation score: 0.675569\n",
      "Iteration 39, loss = 0.13145408\n",
      "Validation score: 0.671262\n",
      "Iteration 40, loss = 0.12957404\n",
      "Validation score: 0.675345\n",
      "Iteration 41, loss = 0.13043884\n",
      "Validation score: 0.671755\n",
      "Iteration 42, loss = 0.12871560\n",
      "Validation score: 0.667486\n",
      "Iteration 43, loss = 0.12930505\n",
      "Validation score: 0.678456\n",
      "Iteration 44, loss = 0.12924408\n",
      "Validation score: 0.672866\n",
      "Iteration 45, loss = 0.13169424\n",
      "Validation score: 0.676926\n",
      "Iteration 46, loss = 0.12791413\n",
      "Validation score: 0.673006\n",
      "Iteration 47, loss = 0.12815955\n",
      "Validation score: 0.678935\n",
      "Iteration 48, loss = 0.12741899\n",
      "Validation score: 0.679655\n",
      "Iteration 49, loss = 0.12710041\n",
      "Validation score: 0.671291\n",
      "Iteration 50, loss = 0.12765845\n",
      "Validation score: 0.671377\n",
      "Iteration 51, loss = 0.12961536\n",
      "Validation score: 0.678231\n",
      "Iteration 52, loss = 0.12883895\n",
      "Validation score: 0.680200\n",
      "Iteration 53, loss = 0.12809961\n",
      "Validation score: 0.673564\n",
      "Iteration 54, loss = 0.12659445\n",
      "Validation score: 0.681292\n",
      "Iteration 55, loss = 0.12593001\n",
      "Validation score: 0.679778\n",
      "Iteration 56, loss = 0.12578622\n",
      "Validation score: 0.669657\n",
      "Iteration 57, loss = 0.12633093\n",
      "Validation score: 0.676927\n",
      "Iteration 58, loss = 0.12846557\n",
      "Validation score: 0.679861\n",
      "Iteration 59, loss = 0.12858531\n",
      "Validation score: 0.685129\n",
      "Iteration 60, loss = 0.12589715\n",
      "Validation score: 0.680188\n",
      "Iteration 61, loss = 0.12605014\n",
      "Validation score: 0.680819\n",
      "Iteration 62, loss = 0.12540467\n",
      "Validation score: 0.676963\n",
      "Iteration 63, loss = 0.12647858\n",
      "Validation score: 0.678349\n",
      "Iteration 64, loss = 0.12437200\n",
      "Validation score: 0.680576\n",
      "Iteration 65, loss = 0.12435071\n",
      "Validation score: 0.672215\n",
      "Iteration 66, loss = 0.12524630\n",
      "Validation score: 0.678632\n",
      "Iteration 67, loss = 0.12464309\n",
      "Validation score: 0.681864\n",
      "Iteration 68, loss = 0.12474943\n",
      "Validation score: 0.675338\n",
      "Iteration 69, loss = 0.12995093\n",
      "Validation score: 0.666062\n",
      "Iteration 70, loss = 0.12658655\n",
      "Validation score: 0.684511\n",
      "Validation score did not improve more than tol=0.000100 for 10 consecutive epochs. Stopping.\n",
      "MLP R2 Score: 0.6942\n"
     ]
    }
   ],
   "execution_count": 9
  },
  {
   "metadata": {
    "ExecuteTime": {
     "end_time": "2025-04-25T09:13:12.690044Z",
     "start_time": "2025-04-25T09:13:12.650020Z"
    }
   },
   "cell_type": "code",
   "source": [
    "from gmdh import Combi, Multi\n",
    "\n",
    "# Обучение COMBI\n",
    "combi_model = Combi()\n",
    "combi_model.fit(X_train_scaled, y_train)\n",
    "y_pred_combi = combi_model.predict(X_test_scaled)\n",
    "r2_combi = r2_score(y_test, y_pred_combi)\n",
    "print(f\"COMBI R2 Score: {r2_combi:.4f}\")\n",
    "\n",
    "# Обучение MIA\n",
    "mia_model = Multi()\n",
    "mia_model.fit(X_train_scaled, y_train)\n",
    "y_pred_mia = mia_model.predict(X_test_scaled)\n",
    "r2_mia = r2_score(y_test, y_pred_mia)\n",
    "print(f\"MIA R2 Score: {r2_mia:.4f}\")"
   ],
   "outputs": [
    {
     "ename": "ModuleNotFoundError",
     "evalue": "No module named 'gmdh'",
     "output_type": "error",
     "traceback": [
      "\u001B[31m---------------------------------------------------------------------------\u001B[39m",
      "\u001B[31mModuleNotFoundError\u001B[39m                       Traceback (most recent call last)",
      "\u001B[36mCell\u001B[39m\u001B[36m \u001B[39m\u001B[32mIn[10]\u001B[39m\u001B[32m, line 1\u001B[39m\n\u001B[32m----> \u001B[39m\u001B[32m1\u001B[39m \u001B[38;5;28;01mfrom\u001B[39;00m\u001B[38;5;250m \u001B[39m\u001B[34;01mgmdh\u001B[39;00m\u001B[38;5;250m \u001B[39m\u001B[38;5;28;01mimport\u001B[39;00m Combi, Multi\n\u001B[32m      3\u001B[39m \u001B[38;5;66;03m# Обучение COMBI\u001B[39;00m\n\u001B[32m      4\u001B[39m combi_model = Combi()\n",
      "\u001B[31mModuleNotFoundError\u001B[39m: No module named 'gmdh'"
     ]
    }
   ],
   "execution_count": 10
  }
 ],
 "metadata": {
  "kernelspec": {
   "display_name": "Python 3",
   "language": "python",
   "name": "python3"
  },
  "language_info": {
   "codemirror_mode": {
    "name": "ipython",
    "version": 3
   },
   "file_extension": ".py",
   "mimetype": "text/x-python",
   "name": "python",
   "nbconvert_exporter": "python",
   "pygments_lexer": "ipython3",
   "version": "3.12.6"
  }
 },
 "nbformat": 4,
 "nbformat_minor": 2
}
