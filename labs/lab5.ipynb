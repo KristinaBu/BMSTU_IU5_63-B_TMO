{
 "cells": [
  {
   "cell_type": "code",
   "execution_count": 1,
   "metadata": {},
   "outputs": [],
   "source": [
    "import pandas as pd\n",
    "import numpy as np\n",
    "from sklearn.model_selection import train_test_split, GridSearchCV, RandomizedSearchCV, cross_val_score\n",
    "from sklearn.preprocessing import LabelEncoder, StandardScaler\n",
    "from sklearn.neighbors import KNeighborsRegressor\n",
    "from sklearn.metrics import mean_squared_error, mean_absolute_error, r2_score\n",
    "from sklearn.inspection import permutation_importance\n",
    "import matplotlib.pyplot as plt\n",
    "\n",
    "# Загрузка данных\n",
    "data1 = pd.read_csv('House_Rent_Dataset.csv')\n",
    "\n",
    "# Очистка данных от null значений\n",
    "data_cleaned = data1.dropna()\n",
    "\n",
    "# Кодирование категориальных признаков\n",
    "label_encoders = {}\n",
    "categorical_columns = ['Posted On', 'Floor', 'Area Type', 'Area Locality', 'City', 'Furnishing Status', 'Tenant Preferred', 'Point of Contact']\n",
    "\n",
    "for column in categorical_columns:\n",
    "    label_encoders[column] = LabelEncoder()\n",
    "    data_cleaned[column] = label_encoders[column].fit_transform(data_cleaned[column])\n",
    "\n",
    "X = data_cleaned.drop('Rent', axis=1)\n",
    "y = data_cleaned['Rent']\n",
    "\n",
    "selected_features = ['Size', 'City', 'Bathroom', 'Point of Contact', 'BHK']\n",
    "X = X[selected_features]\n",
    "\n",
    "data_combined = pd.concat([X, y], axis=1)\n",
    "\n",
    "# Удаление выбросов с использованием метода межквартильного размаха (IQR)\n",
    "Q1 = data_combined.quantile(0.25)\n",
    "Q3 = data_combined.quantile(0.75)\n",
    "IQR = Q3 - Q1\n",
    "\n",
    "data_filtered = data_combined[~((data_combined < (Q1 - 1.5 * IQR)) | (data_combined > (Q3 + 1.5 * IQR))).any(axis=1)]\n",
    "\n",
    "# Разделение данных на признаки и целевую переменную после удаления выбросов\n",
    "X_filtered = data_filtered[selected_features]\n",
    "y_filtered = data_filtered['Rent']\n",
    "\n",
    "# Разделение данных на обучающую и тестовую выборки\n",
    "X_train, X_test, y_train, y_test = train_test_split(X_filtered, y_filtered, test_size=0.2, random_state=42)\n"
   ]
  },
  {
   "cell_type": "code",
   "execution_count": 2,
   "metadata": {},
   "outputs": [],
   "source": [
    "\n",
    "# Масштабирование данных\n",
    "scaler = StandardScaler()\n",
    "X_train_scaled = scaler.fit_transform(X_train)\n",
    "X_test_scaled = scaler.transform(X_test)\n"
   ]
  },
  {
   "cell_type": "code",
   "execution_count": 3,
   "metadata": {},
   "outputs": [],
   "source": [
    "from sklearn.ensemble import RandomForestRegressor, ExtraTreesRegressor, AdaBoostRegressor, GradientBoostingRegressor\n",
    "\n",
    "# 1. Случайный лес (Random Forest)\n",
    "rf = RandomForestRegressor(random_state=42)\n",
    "rf_params = {\n",
    "    'n_estimators': [100, 200, 300],\n",
    "    'max_depth': [None, 10, 20, 30],\n",
    "    'min_samples_split': [2, 5, 10]\n",
    "}\n",
    "\n",
    "rf_grid = GridSearchCV(rf, rf_params, cv=5, scoring='neg_mean_squared_error', n_jobs=-1)\n",
    "rf_grid.fit(X_train_scaled, y_train)\n",
    "best_rf = rf_grid.best_estimator_"
   ]
  },
  {
   "cell_type": "code",
   "execution_count": 4,
   "metadata": {},
   "outputs": [],
   "source": [
    "\n",
    "# 2. Экстра-случайные деревья (Extra Trees)\n",
    "et = ExtraTreesRegressor(random_state=42)\n",
    "et_params = {\n",
    "    'n_estimators': [100, 200, 300],\n",
    "    'max_depth': [None, 10, 20, 30],\n",
    "    'min_samples_split': [2, 5, 10]\n",
    "}\n",
    "\n",
    "et_grid = GridSearchCV(et, et_params, cv=5, scoring='neg_mean_squared_error', n_jobs=-1)\n",
    "et_grid.fit(X_train_scaled, y_train)\n",
    "best_et = et_grid.best_estimator_"
   ]
  },
  {
   "cell_type": "code",
   "execution_count": 6,
   "metadata": {},
   "outputs": [],
   "source": [
    "from sklearn.tree import DecisionTreeRegressor\n",
    "\n",
    "# 3. AdaBoost\n",
    "base_estimator = DecisionTreeRegressor(max_depth=3)\n",
    "ada = AdaBoostRegressor(estimator=base_estimator, random_state=42)\n",
    "ada_params = {\n",
    "    'n_estimators': [50, 100, 200],\n",
    "    'learning_rate': [0.01, 0.1, 1.0]\n",
    "}\n",
    "\n",
    "ada_grid = GridSearchCV(ada, ada_params, cv=5, scoring='neg_mean_squared_error', n_jobs=-1)\n",
    "ada_grid.fit(X_train_scaled, y_train)\n",
    "best_ada = ada_grid.best_estimator_"
   ]
  },
  {
   "cell_type": "code",
   "execution_count": 7,
   "metadata": {},
   "outputs": [],
   "source": [
    "\n",
    "# 4. Градиентный бустинг (Gradient Boosting)\n",
    "gb = GradientBoostingRegressor(random_state=42)\n",
    "gb_params = {\n",
    "    'n_estimators': [100, 200, 300],\n",
    "    'learning_rate': [0.01, 0.1, 0.2],\n",
    "    'max_depth': [3, 5, 7]\n",
    "}\n",
    "\n",
    "gb_grid = GridSearchCV(gb, gb_params, cv=5, scoring='neg_mean_squared_error', n_jobs=-1)\n",
    "gb_grid.fit(X_train_scaled, y_train)\n",
    "best_gb = gb_grid.best_estimator_"
   ]
  },
  {
   "cell_type": "code",
   "execution_count": 8,
   "metadata": {},
   "outputs": [
    {
     "name": "stdout",
     "output_type": "stream",
     "text": [
      "Результаты оценки моделей:\n",
      "            Model          MSE         MAE       R2                                                                                                                                                                                                                                                                                                                                                                                                                                                                                                                                                        Best Params\n",
      "    Random Forest 5.972878e+07 5187.616285 0.669635                                                                                                                                                       {'bootstrap': True, 'ccp_alpha': 0.0, 'criterion': 'squared_error', 'max_depth': 10, 'max_features': 1.0, 'max_leaf_nodes': None, 'max_samples': None, 'min_impurity_decrease': 0.0, 'min_samples_leaf': 1, 'min_samples_split': 10, 'min_weight_fraction_leaf': 0.0, 'monotonic_cst': None, 'n_estimators': 100, 'n_jobs': None, 'oob_score': False, 'random_state': 42, 'verbose': 0, 'warm_start': False}\n",
      "      Extra Trees 5.536810e+07 4972.909007 0.693755                                                                                                                                                      {'bootstrap': False, 'ccp_alpha': 0.0, 'criterion': 'squared_error', 'max_depth': 10, 'max_features': 1.0, 'max_leaf_nodes': None, 'max_samples': None, 'min_impurity_decrease': 0.0, 'min_samples_leaf': 1, 'min_samples_split': 10, 'min_weight_fraction_leaf': 0.0, 'monotonic_cst': None, 'n_estimators': 100, 'n_jobs': None, 'oob_score': False, 'random_state': 42, 'verbose': 0, 'warm_start': False}\n",
      "         AdaBoost 6.601295e+07 6184.521519 0.634877 {'estimator__ccp_alpha': 0.0, 'estimator__criterion': 'squared_error', 'estimator__max_depth': 3, 'estimator__max_features': None, 'estimator__max_leaf_nodes': None, 'estimator__min_impurity_decrease': 0.0, 'estimator__min_samples_leaf': 1, 'estimator__min_samples_split': 2, 'estimator__min_weight_fraction_leaf': 0.0, 'estimator__monotonic_cst': None, 'estimator__random_state': None, 'estimator__splitter': 'best', 'estimator': DecisionTreeRegressor(max_depth=3), 'learning_rate': 0.1, 'loss': 'linear', 'n_estimators': 50, 'random_state': 42}\n",
      "Gradient Boosting 5.594673e+07 5060.312499 0.690554                                                                                          {'alpha': 0.9, 'ccp_alpha': 0.0, 'criterion': 'friedman_mse', 'init': None, 'learning_rate': 0.1, 'loss': 'squared_error', 'max_depth': 3, 'max_features': None, 'max_leaf_nodes': None, 'min_impurity_decrease': 0.0, 'min_samples_leaf': 1, 'min_samples_split': 2, 'min_weight_fraction_leaf': 0.0, 'n_estimators': 200, 'n_iter_no_change': None, 'random_state': 42, 'subsample': 1.0, 'tol': 0.0001, 'validation_fraction': 0.1, 'verbose': 0, 'warm_start': False}\n"
     ]
    }
   ],
   "source": [
    "\n",
    "# Функция для оценки моделей\n",
    "def evaluate_model(model, X_test, y_test):\n",
    "    y_pred = model.predict(X_test)\n",
    "    mse = mean_squared_error(y_test, y_pred)\n",
    "    mae = mean_absolute_error(y_test, y_pred)\n",
    "    r2 = r2_score(y_test, y_pred)\n",
    "    return mse, mae, r2\n",
    "\n",
    "# Оценка всех моделей\n",
    "models = {\n",
    "    \"Random Forest\": best_rf,\n",
    "    \"Extra Trees\": best_et,\n",
    "    \"AdaBoost\": best_ada,\n",
    "    \"Gradient Boosting\": best_gb\n",
    "}\n",
    "\n",
    "results = []\n",
    "for name, model in models.items():\n",
    "    mse, mae, r2 = evaluate_model(model, X_test_scaled, y_test)\n",
    "    results.append({\n",
    "        'Model': name,\n",
    "        'MSE': mse,\n",
    "        'MAE': mae,\n",
    "        'R2': r2,\n",
    "        'Best Params': model.get_params()\n",
    "    })\n",
    "\n",
    "# Вывод результатов\n",
    "results_df = pd.DataFrame(results)\n",
    "print(\"Результаты оценки моделей:\")\n",
    "print(results_df.to_string(index=False))"
   ]
  },
  {
   "cell_type": "code",
   "execution_count": 9,
   "metadata": {},
   "outputs": [
    {
     "data": {
      "image/png": "[encoded data removed]",
      "text/plain": [
       "<Figure size 1000x600 with 1 Axes>"
      ]
     },
     "metadata": {},
     "output_type": "display_data"
    }
   ],
   "source": [
    "\n",
    "# Визуализация важности признаков для лучшей модели\n",
    "best_model_name = results_df.loc[results_df['R2'].idxmax(), 'Model']\n",
    "best_model = models[best_model_name]\n",
    "\n",
    "if hasattr(best_model, 'feature_importances_'):\n",
    "    plt.figure(figsize=(10, 6))\n",
    "    feature_importances = pd.Series(best_model.feature_importances_, index=selected_features)\n",
    "    feature_importances.nlargest(10).plot(kind='barh')\n",
    "    plt.title(f'Важность признаков ({best_model_name})')\n",
    "    plt.xlabel('Важность')\n",
    "    plt.ylabel('Признак')\n",
    "    plt.show()"
   ]
  },
  {
   "cell_type": "code",
   "execution_count": 13,
   "metadata": {},
   "outputs": [
    {
     "name": "stdout",
     "output_type": "stream",
     "text": [
      "Результаты оценки моделей:\n",
      "               Model            MSE        MAE      R2\n",
      "0      Random Forest  59728778.2237  5187.6163  0.6696\n",
      "1        Extra Trees  55368101.2152  4972.9090  0.6938\n",
      "2           AdaBoost  66012951.0325  6184.5215  0.6349\n",
      "3  Gradient Boosting  55946725.2108  5060.3125  0.6906\n"
     ]
    }
   ],
   "source": [
    "import pandas as pd\n",
    "from sklearn.metrics import mean_squared_error, mean_absolute_error, r2_score\n",
    "\n",
    "# Функция для оценки моделей\n",
    "def evaluate_model(model, X_test, y_test):\n",
    "    y_pred = model.predict(X_test)\n",
    "    mse = mean_squared_error(y_test, y_pred)\n",
    "    mae = mean_absolute_error(y_test, y_pred)\n",
    "    r2 = r2_score(y_test, y_pred)\n",
    "    return mse, mae, r2\n",
    "\n",
    "# Оценка всех моделей\n",
    "models = {\n",
    "    \"Random Forest\": best_rf,\n",
    "    \"Extra Trees\": best_et,\n",
    "    \"AdaBoost\": best_ada,\n",
    "    \"Gradient Boosting\": best_gb\n",
    "}\n",
    "\n",
    "results = []\n",
    "for name, model in models.items():\n",
    "    mse, mae, r2 = evaluate_model(model, X_test_scaled, y_test)\n",
    "    results.append({\n",
    "        'Model': name,\n",
    "        'MSE': f\"{mse:.4f}\",  # Форматирование до 4 знаков\n",
    "        'MAE': f\"{mae:.4f}\",\n",
    "        'R2': f\"{r2:.4f}\"\n",
    "    })\n",
    "\n",
    "# Вывод результатов\n",
    "results_df = pd.DataFrame(results)\n",
    "print(\"Результаты оценки моделей:\")\n",
    "print(results_df)\n"
   ]
  },
  {
   "cell_type": "code",
   "execution_count": null,
   "metadata": {},
   "outputs": [
    {
     "name": "stdout",
     "output_type": "stream",
     "text": [
      "Результаты оценки модели Random Forest:\n",
      "  MSE: 59728778.2237\n",
      "  MAE: 5187.6163\n",
      "  R2: 0.6696\n",
      "\n",
      "Лучшие параметры модели Random Forest:\n",
      "  bootstrap: True\n",
      "  ccp_alpha: 0.0\n",
      "  criterion: squared_error\n",
      "  max_depth: 10\n",
      "  max_features: 1.0\n",
      "  max_leaf_nodes: None\n",
      "  max_samples: None\n",
      "  min_impurity_decrease: 0.0\n",
      "  min_samples_leaf: 1\n",
      "  min_samples_split: 10\n",
      "  min_weight_fraction_leaf: 0.0\n",
      "  monotonic_cst: None\n",
      "  n_estimators: 100\n",
      "  n_jobs: None\n",
      "  oob_score: False\n",
      "  random_state: 42\n",
      "  verbose: 0\n",
      "  warm_start: False\n"
     ]
    }
   ],
   "source": [
    "import pandas as pd\n",
    "from sklearn.metrics import mean_squared_error, mean_absolute_error, r2_score\n",
    "\n",
    "# Функция для оценки модели\n",
    "def evaluate_model(model, X_test, y_test):\n",
    "    y_pred = model.predict(X_test)\n",
    "    mse = mean_squared_error(y_test, y_pred)\n",
    "    mae = mean_absolute_error(y_test, y_pred)\n",
    "    r2 = r2_score(y_test, y_pred)\n",
    "    return mse, mae, r2\n",
    "\n",
    "# Оценка модели Random Forest\n",
    "name = \"Random Forest\"\n",
    "model = best_rf\n",
    "mse, mae, r2 = evaluate_model(model, X_test_scaled, y_test)\n",
    "\n",
    "print(f\"Результаты оценки модели {name}:\")\n",
    "print(f\"  MSE: {mse:.4f}\")\n",
    "print(f\"  MAE: {mae:.4f}\")\n",
    "print(f\"  R2: {r2:.4f}\")\n",
    "\n",
    "print(f\"\\nЛучшие параметры модели {name}:\")\n",
    "params = model.get_params()\n",
    "for key, value in params.items():\n",
    "    print(f\"  {key}: {value}\")"
   ]
  },
  {
   "cell_type": "code",
   "execution_count": 16,
   "metadata": {},
   "outputs": [
    {
     "name": "stdout",
     "output_type": "stream",
     "text": [
      "Результаты оценки модели Extra Trees:\n",
      "  MSE: 55368101.2152\n",
      "  MAE: 4972.9090\n",
      "  R2: 0.6938\n",
      "\n",
      "Лучшие параметры модели Extra Trees:\n",
      "  bootstrap: False\n",
      "  ccp_alpha: 0.0\n",
      "  criterion: squared_error\n",
      "  max_depth: 10\n",
      "  max_features: 1.0\n",
      "  max_leaf_nodes: None\n",
      "  max_samples: None\n",
      "  min_impurity_decrease: 0.0\n",
      "  min_samples_leaf: 1\n",
      "  min_samples_split: 10\n",
      "  min_weight_fraction_leaf: 0.0\n",
      "  monotonic_cst: None\n",
      "  n_estimators: 100\n",
      "  n_jobs: None\n",
      "  oob_score: False\n",
      "  random_state: 42\n",
      "  verbose: 0\n",
      "  warm_start: False\n"
     ]
    }
   ],
   "source": [
    "\n",
    "# Оценка модели Extra Trees\n",
    "name = \"Extra Trees\"\n",
    "model = best_et\n",
    "mse, mae, r2 = evaluate_model(model, X_test_scaled, y_test)\n",
    "\n",
    "print(f\"Результаты оценки модели {name}:\")\n",
    "print(f\"  MSE: {mse:.4f}\")\n",
    "print(f\"  MAE: {mae:.4f}\")\n",
    "print(f\"  R2: {r2:.4f}\")\n",
    "\n",
    "print(f\"\\nЛучшие параметры модели {name}:\")\n",
    "params = model.get_params()\n",
    "for key, value in params.items():\n",
    "    print(f\"  {key}: {value}\")"
   ]
  },
  {
   "cell_type": "code",
   "execution_count": 17,
   "metadata": {},
   "outputs": [
    {
     "name": "stdout",
     "output_type": "stream",
     "text": [
      "Результаты оценки модели AdaBoost:\n",
      "  MSE: 66012951.0325\n",
      "  MAE: 6184.5215\n",
      "  R2: 0.6349\n",
      "\n",
      "Лучшие параметры модели AdaBoost:\n",
      "  estimator__ccp_alpha: 0.0\n",
      "  estimator__criterion: squared_error\n",
      "  estimator__max_depth: 3\n",
      "  estimator__max_features: None\n",
      "  estimator__max_leaf_nodes: None\n",
      "  estimator__min_impurity_decrease: 0.0\n",
      "  estimator__min_samples_leaf: 1\n",
      "  estimator__min_samples_split: 2\n",
      "  estimator__min_weight_fraction_leaf: 0.0\n",
      "  estimator__monotonic_cst: None\n",
      "  estimator__random_state: None\n",
      "  estimator__splitter: best\n",
      "  estimator: DecisionTreeRegressor(max_depth=3)\n",
      "  learning_rate: 0.1\n",
      "  loss: linear\n",
      "  n_estimators: 50\n",
      "  random_state: 42\n"
     ]
    }
   ],
   "source": [
    "\n",
    "# Оценка модели AdaBoost\n",
    "name = \"AdaBoost\"\n",
    "model = best_ada\n",
    "mse, mae, r2 = evaluate_model(model, X_test_scaled, y_test)\n",
    "\n",
    "print(f\"Результаты оценки модели {name}:\")\n",
    "print(f\"  MSE: {mse:.4f}\")\n",
    "print(f\"  MAE: {mae:.4f}\")\n",
    "print(f\"  R2: {r2:.4f}\")\n",
    "\n",
    "print(f\"\\nЛучшие параметры модели {name}:\")\n",
    "params = model.get_params()\n",
    "for key, value in params.items():\n",
    "    print(f\"  {key}: {value}\")"
   ]
  }
 ],
 "metadata": {
  "kernelspec": {
   "display_name": "Python 3",
   "language": "python",
   "name": "python3"
  },
  "language_info": {
   "codemirror_mode": {
    "name": "ipython",
    "version": 3
   },
   "file_extension": ".py",
   "mimetype": "text/x-python",
   "name": "python",
   "nbconvert_exporter": "python",
   "pygments_lexer": "ipython3",
   "version": "3.12.6"
  }
 },
 "nbformat": 4,
 "nbformat_minor": 2
}
